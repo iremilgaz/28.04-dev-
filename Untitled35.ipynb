{
 "cells": [
  {
   "cell_type": "code",
   "execution_count": 1,
   "id": "42e80902",
   "metadata": {},
   "outputs": [
    {
     "name": "stdout",
     "output_type": "stream",
     "text": [
      "[1, 2, 3, 5, 8]\n"
     ]
    }
   ],
   "source": [
    "numaralar = [8, 3, 8, 1, 2, 3, 5, 5]\n",
    "benzersiz_liste = list(set(numaralar))\n",
    "print(benzersiz_liste)"
   ]
  },
  {
   "cell_type": "code",
   "execution_count": 2,
   "id": "5d6ba1b6",
   "metadata": {},
   "outputs": [
    {
     "name": "stdout",
     "output_type": "stream",
     "text": [
      "{'isim': 'Haruki', 'ülke': 'Japonya'}\n"
     ]
    }
   ],
   "source": [
    "sanatci = {\"isim\": \"Haruki\"}\n",
    "sanatci[\"ülke\"] = \"Japonya\"\n",
    "print(sanatci)"
   ]
  },
  {
   "cell_type": "code",
   "execution_count": 4,
   "id": "3333d0af",
   "metadata": {},
   "outputs": [
    {
     "name": "stdout",
     "output_type": "stream",
     "text": [
      "Kitap adı: sefiller\n",
      "Kaç tane almak istiyorunuz? 7\n",
      "stok yetersiz\n"
     ]
    }
   ],
   "source": [
    "kitap_stok = {\"1984\": 4, \"Sefiller\": 2, \"Martı\": 5}\n",
    "kitap = input(\"Kitap adı: \")\n",
    "adet = int(input(\"Kaç tane almak istiyorunuz? \"))\n",
    "\n",
    "if kitap in kitap_stok and kitap_stok[kitap] >= adet:\n",
    "    print(\"siparis tamamlandı.\")\n",
    "else:\n",
    "    print(\"stok yetersiz\")"
   ]
  },
  {
   "cell_type": "code",
   "execution_count": 5,
   "id": "e20da718",
   "metadata": {},
   "outputs": [
    {
     "name": "stdout",
     "output_type": "stream",
     "text": [
      "Telefon\n",
      "Laptop\n"
     ]
    }
   ],
   "source": [
    "urunler = {\n",
    "    \"Telefon\": {\"yil\": 2019},\n",
    "    \"Televizyon\": {\"yil\": 2014},\n",
    "    \"Laptop\": {\"yil\": 2021}\n",
    "}\n",
    "\n",
    "for urun, bilgi in urunler.items():\n",
    "    if bilgi[\"yil\"] > 2015:\n",
    "        print(urun)"
   ]
  },
  {
   "cell_type": "code",
   "execution_count": 6,
   "id": "b0536a6b",
   "metadata": {},
   "outputs": [
    {
     "name": "stdout",
     "output_type": "stream",
     "text": [
      "{'isim': 'Nihan', 'hobiler': ['yoga', 'resim', 'yüzme']}\n"
     ]
    }
   ],
   "source": [
    "profil = {\n",
    "    \"isim\": \"Nihan\",\n",
    "    \"hobiler\": [\"yoga\", \"resim\"]\n",
    "}\n",
    "profil[\"hobiler\"].append(\"yüzme\")\n",
    "print(profil)"
   ]
  },
  {
   "cell_type": "code",
   "execution_count": 7,
   "id": "ff31b9e5",
   "metadata": {},
   "outputs": [
    {
     "name": "stdout",
     "output_type": "stream",
     "text": [
      "ad: Veri Bilimi\n",
      "süre: 6 hafta\n",
      "seviye: Orta\n"
     ]
    }
   ],
   "source": [
    "kurs = {\n",
    "    \"ad\": \"Veri Bilimi\",\n",
    "    \"süre\": \"6 hafta\",\n",
    "    \"seviye\": \"Orta\"\n",
    "}\n",
    "for anahtar, deger in kurs.items():\n",
    "    print(f\"{anahtar}: {deger}\")"
   ]
  },
  {
   "cell_type": "code",
   "execution_count": 8,
   "id": "833861b0",
   "metadata": {},
   "outputs": [
    {
     "name": "stdout",
     "output_type": "stream",
     "text": [
      "Ekin\n",
      "Deniz\n"
     ]
    }
   ],
   "source": [
    "notlar = {\n",
    "    \"Ekin\": 91,\n",
    "    \"Barış\": 76,\n",
    "    \"Deniz\": 88,\n",
    "    \"Umut\": 63\n",
    "}\n",
    "for isim, puan in notlar.items():\n",
    "    if puan >= 85:\n",
    "        print(isim)"
   ]
  },
  {
   "cell_type": "code",
   "execution_count": 9,
   "id": "4ef17446",
   "metadata": {},
   "outputs": [
    {
     "name": "stdout",
     "output_type": "stream",
     "text": [
      "şehir adı: ankara\n",
      "veri yok\n"
     ]
    }
   ],
   "source": [
    "sehir_adi = {\n",
    "    \"Berlin\": {\"nüfus\": 3_600_000},\n",
    "    \"Madrid\": {\"nüfus\": 3_200_000}\n",
    "}\n",
    "\n",
    "sehir = input(\"şehir adı: \")\n",
    "if sehir in sehir_adi:\n",
    "    print(sehir_adi[sehir])\n",
    "else:\n",
    "    print(\"veri yok\")"
   ]
  },
  {
   "cell_type": "code",
   "execution_count": 10,
   "id": "86b89b20",
   "metadata": {},
   "outputs": [
    {
     "name": "stdout",
     "output_type": "stream",
     "text": [
      "{'masa': 1380.0, 'sandalye': 517.5, 'lamba': 345.0}\n"
     ]
    }
   ],
   "source": [
    "fiyatlar = {\n",
    "    \"masa\": 1200,\n",
    "    \"sandalye\": 450,\n",
    "    \"lamba\": 300\n",
    "}\n",
    "for urun in fiyatlar:\n",
    "    fiyatlar[urun] *= 1.15\n",
    "print(fiyatlar)"
   ]
  },
  {
   "cell_type": "code",
   "execution_count": 11,
   "id": "ec553f71",
   "metadata": {},
   "outputs": [
    {
     "name": "stdout",
     "output_type": "stream",
     "text": [
      "ProjeX\n",
      "ProjeZ\n"
     ]
    }
   ],
   "source": [
    "projeler = {\n",
    "    \"ProjeX\": {\"durum\": \"aktif\", \"süre\": 3},\n",
    "    \"ProjeY\": {\"durum\": \"tamamlandı\", \"süre\": 6},\n",
    "    \"ProjeZ\": {\"durum\": \"aktif\", \"süre\": 2}\n",
    "}\n",
    "for proje, bilgi in projeler.items():\n",
    "    if bilgi[\"durum\"] == \"aktif\":\n",
    "        print(proje)"
   ]
  },
  {
   "cell_type": "code",
   "execution_count": null,
   "id": "25d3e4ab",
   "metadata": {},
   "outputs": [],
   "source": []
  }
 ],
 "metadata": {
  "kernelspec": {
   "display_name": "Python 3 (ipykernel)",
   "language": "python",
   "name": "python3"
  },
  "language_info": {
   "codemirror_mode": {
    "name": "ipython",
    "version": 3
   },
   "file_extension": ".py",
   "mimetype": "text/x-python",
   "name": "python",
   "nbconvert_exporter": "python",
   "pygments_lexer": "ipython3",
   "version": "3.9.12"
  }
 },
 "nbformat": 4,
 "nbformat_minor": 5
}
